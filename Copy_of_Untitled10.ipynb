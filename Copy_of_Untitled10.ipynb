{
  "cells": [
    {
      "cell_type": "markdown",
      "metadata": {
        "id": "view-in-github",
        "colab_type": "text"
      },
      "source": [
        "<a href=\"https://colab.research.google.com/github/KushagraGoel-arad/Fuzzy-PBL-Script-Recognition-Using-CNN/blob/main/Copy_of_Untitled10.ipynb\" target=\"_parent\"><img src=\"https://colab.research.google.com/assets/colab-badge.svg\" alt=\"Open In Colab\"/></a>"
      ]
    },
    {
      "cell_type": "code",
      "execution_count": null,
      "metadata": {
        "colab": {
          "base_uri": "https://localhost:8080/"
        },
        "id": "YbXL0C_vhlSi",
        "outputId": "d931fc4f-1f64-4edf-f80d-66ce21f899ff"
      },
      "outputs": [
        {
          "name": "stdout",
          "output_type": "stream",
          "text": [
            "Looking in indexes: https://pypi.org/simple, https://us-python.pkg.dev/colab-wheels/public/simple/\n",
            "Collecting opendatasets\n",
            "  Downloading opendatasets-0.1.22-py3-none-any.whl (15 kB)\n",
            "Requirement already satisfied: tqdm in /usr/local/lib/python3.7/dist-packages (from opendatasets) (4.64.1)\n",
            "Requirement already satisfied: kaggle in /usr/local/lib/python3.7/dist-packages (from opendatasets) (1.5.12)\n",
            "Requirement already satisfied: click in /usr/local/lib/python3.7/dist-packages (from opendatasets) (7.1.2)\n",
            "Requirement already satisfied: six>=1.10 in /usr/local/lib/python3.7/dist-packages (from kaggle->opendatasets) (1.15.0)\n",
            "Requirement already satisfied: requests in /usr/local/lib/python3.7/dist-packages (from kaggle->opendatasets) (2.23.0)\n",
            "Requirement already satisfied: urllib3 in /usr/local/lib/python3.7/dist-packages (from kaggle->opendatasets) (1.24.3)\n",
            "Requirement already satisfied: certifi in /usr/local/lib/python3.7/dist-packages (from kaggle->opendatasets) (2022.9.24)\n",
            "Requirement already satisfied: python-dateutil in /usr/local/lib/python3.7/dist-packages (from kaggle->opendatasets) (2.8.2)\n",
            "Requirement already satisfied: python-slugify in /usr/local/lib/python3.7/dist-packages (from kaggle->opendatasets) (6.1.2)\n",
            "Requirement already satisfied: text-unidecode>=1.3 in /usr/local/lib/python3.7/dist-packages (from python-slugify->kaggle->opendatasets) (1.3)\n",
            "Requirement already satisfied: chardet<4,>=3.0.2 in /usr/local/lib/python3.7/dist-packages (from requests->kaggle->opendatasets) (3.0.4)\n",
            "Requirement already satisfied: idna<3,>=2.5 in /usr/local/lib/python3.7/dist-packages (from requests->kaggle->opendatasets) (2.10)\n",
            "Installing collected packages: opendatasets\n",
            "Successfully installed opendatasets-0.1.22\n",
            "Looking in indexes: https://pypi.org/simple, https://us-python.pkg.dev/colab-wheels/public/simple/\n",
            "Requirement already satisfied: pandas in /usr/local/lib/python3.7/dist-packages (1.3.5)\n",
            "Requirement already satisfied: pytz>=2017.3 in /usr/local/lib/python3.7/dist-packages (from pandas) (2022.6)\n",
            "Requirement already satisfied: numpy>=1.17.3 in /usr/local/lib/python3.7/dist-packages (from pandas) (1.21.6)\n",
            "Requirement already satisfied: python-dateutil>=2.7.3 in /usr/local/lib/python3.7/dist-packages (from pandas) (2.8.2)\n",
            "Requirement already satisfied: six>=1.5 in /usr/local/lib/python3.7/dist-packages (from python-dateutil>=2.7.3->pandas) (1.15.0)\n"
          ]
        }
      ],
      "source": [
        "!pip install opendatasets\n",
        "!pip install pandas"
      ]
    },
    {
      "cell_type": "code",
      "execution_count": null,
      "metadata": {
        "colab": {
          "base_uri": "https://localhost:8080/"
        },
        "id": "VIeHOHQIiLka",
        "outputId": "7038b942-04e5-42aa-e3b5-4264926edde4"
      },
      "outputs": [
        {
          "name": "stdout",
          "output_type": "stream",
          "text": [
            "Please provide your Kaggle credentials to download this dataset. Learn more: http://bit.ly/kaggle-creds\n",
            "Your Kaggle username: kushagragoel23\n",
            "Your Kaggle Key: ··········\n",
            "Downloading iam-handwriting-top50.zip to ./iam-handwriting-top50\n"
          ]
        },
        {
          "name": "stderr",
          "output_type": "stream",
          "text": [
            "100%|██████████| 187M/187M [00:01<00:00, 148MB/s]\n"
          ]
        },
        {
          "name": "stdout",
          "output_type": "stream",
          "text": [
            "\n"
          ]
        }
      ],
      "source": [
        "import opendatasets as od\n",
        "import pandas\n",
        "  \n",
        "od.download(\n",
        "    \"https://www.kaggle.com/datasets/tejasreddy/iam-handwriting-top50\")"
      ]
    },
    {
      "cell_type": "code",
      "execution_count": null,
      "metadata": {
        "id": "QI3K7LEjiCPH"
      },
      "outputs": [],
      "source": [
        "# Create a dictionary to store each form ID and its writer\n",
        "import os\n",
        "from itertools import islice\n",
        "\n",
        "form_writer = {}\n",
        "forms_file_path = \"/content/iam-handwriting-top50/forms_for_parsing.txt\"\n",
        "with open(forms_file_path) as f:\n",
        "    for line in f:\n",
        "        line_list = line.split(' ')\n",
        "        form_id = line_list[0]\n",
        "        writer = line_list[1]\n",
        "        form_writer[form_id] = writer\n",
        "       "
      ]
    },
    {
      "cell_type": "markdown",
      "metadata": {
        "id": "4EsQxNDsjKuK"
      },
      "source": [
        "\n",
        "\n",
        " Visualization of dictionary as an Array\n",
        "\n",
        "\n"
      ]
    },
    {
      "cell_type": "code",
      "execution_count": null,
      "metadata": {
        "colab": {
          "base_uri": "https://localhost:8080/"
        },
        "id": "dGYmNt45jjvf",
        "outputId": "56ff930f-93ec-4b87-d4c0-b84f360a4649"
      },
      "outputs": [
        {
          "data": {
            "text/plain": [
              "[('a01-000u', '000'),\n",
              " ('a01-000x', '001'),\n",
              " ('a01-003', '002'),\n",
              " ('a01-003u', '000'),\n",
              " ('a01-003x', '003')]"
            ]
          },
          "execution_count": 5,
          "metadata": {},
          "output_type": "execute_result"
        }
      ],
      "source": [
        "list(form_writer.items())[0:5]"
      ]
    },
    {
      "cell_type": "markdown",
      "metadata": {
        "id": "h5cpkH_CkpKJ"
      },
      "source": [
        "There are 221 authors present in the IAM handwriting top-50 dataset but for efficiency and to prevent overfitting we have used 50 most common writers from the dictorary as created above for our PBL"
      ]
    },
    {
      "cell_type": "code",
      "execution_count": null,
      "metadata": {
        "id": "IxZaaLcMksYZ"
      },
      "outputs": [],
      "source": [
        "# Select the 50 most common writer\n",
        "\n",
        "from collections import Counter\n",
        "\n",
        "top_writers = []\n",
        "num_writers = 50\n",
        "writers_counter = Counter(form_writer.values())\n",
        "for writer_id,_ in writers_counter.most_common(num_writers):\n",
        "    top_writers.append(writer_id)"
      ]
    },
    {
      "cell_type": "markdown",
      "metadata": {
        "id": "ls7hXU3_k9tG"
      },
      "source": [
        "The writer id of the top 50 writers taken for our project in form of array:\n"
      ]
    },
    {
      "cell_type": "code",
      "execution_count": null,
      "metadata": {
        "colab": {
          "base_uri": "https://localhost:8080/"
        },
        "id": "M5fw0cjYk7Pi",
        "outputId": "2c540b56-6362-44bf-8a3c-0d4a1cd369b5"
      },
      "outputs": [
        {
          "name": "stdout",
          "output_type": "stream",
          "text": [
            "['000', '150', '151', '152', '153']\n"
          ]
        }
      ],
      "source": [
        "print(top_writers[0:5])"
      ]
    },
    {
      "cell_type": "markdown",
      "metadata": {
        "id": "uxngGmzLlvVY"
      },
      "source": [
        "From the 50 most common writers we have selected, we'll now need to select the forms (sentences) they have written:"
      ]
    },
    {
      "cell_type": "code",
      "execution_count": null,
      "metadata": {
        "id": "RA0YG5LKl9av"
      },
      "outputs": [],
      "source": [
        "top_forms = []\n",
        "for form_id, author_id in form_writer.items():\n",
        "    if author_id in top_writers:\n",
        "        top_forms.append(form_id)"
      ]
    },
    {
      "cell_type": "markdown",
      "metadata": {
        "id": "MoEbMmiOmV4y"
      },
      "source": [
        "Sentence id or Form id for the top 50 writers:\n"
      ]
    },
    {
      "cell_type": "code",
      "execution_count": null,
      "metadata": {
        "colab": {
          "base_uri": "https://localhost:8080/"
        },
        "id": "HSmrYO7gmRO4",
        "outputId": "800e8cd1-ad67-43b7-f70c-da1955b40cbd"
      },
      "outputs": [
        {
          "name": "stdout",
          "output_type": "stream",
          "text": [
            "['a01-000u', 'a01-003u', 'a01-007u', 'a01-011u', 'a01-014u']\n"
          ]
        }
      ],
      "source": [
        "print(top_forms[0:5])"
      ]
    },
    {
      "cell_type": "markdown",
      "metadata": {
        "id": "ck9Moq_kqPn_"
      },
      "source": [
        "Created arrays of file inputs (a form) and their respective targets (a writer id):\n"
      ]
    },
    {
      "cell_type": "code",
      "execution_count": null,
      "metadata": {
        "colab": {
          "base_uri": "https://localhost:8080/"
        },
        "id": "z22pmQY4qZeo",
        "outputId": "c25fa268-6481-40ca-f37d-6d8906dc628b"
      },
      "outputs": [
        {
          "name": "stderr",
          "output_type": "stream",
          "text": [
            "/usr/local/lib/python3.7/dist-packages/ipykernel_launcher.py:5: DeprecationWarning: `np.str` is a deprecated alias for the builtin `str`. To silence this warning, use `str` by itself. Doing this will not modify any behavior and is safe. If you specifically wanted the numpy scalar type, use `np.str_` here.\n",
            "Deprecated in NumPy 1.20; for more details and guidance: https://numpy.org/devdocs/release/1.20.0-notes.html#deprecations\n",
            "  \"\"\"\n",
            "/usr/local/lib/python3.7/dist-packages/ipykernel_launcher.py:6: DeprecationWarning: `np.str` is a deprecated alias for the builtin `str`. To silence this warning, use `str` by itself. Doing this will not modify any behavior and is safe. If you specifically wanted the numpy scalar type, use `np.str_` here.\n",
            "Deprecated in NumPy 1.20; for more details and guidance: https://numpy.org/devdocs/release/1.20.0-notes.html#deprecations\n",
            "  \n"
          ]
        }
      ],
      "source": [
        "import numpy as np\n",
        "import os\n",
        "import glob\n",
        "\n",
        "img_files = np.zeros((0), dtype=np.str)\n",
        "img_targets = np.zeros((0), dtype=np.str)\n",
        "\n",
        "path_to_files = os.path.join('/content/iam-handwriting-top50/data_subset/data_subset', '*')\n",
        "for filename in sorted(glob.glob(path_to_files)):\n",
        "#     print(filename)\n",
        "    img_files = np.append(img_files, filename)\n",
        "    file_name, _ = os.path.splitext(filename.split('/')[-1]  )\n",
        "    parts = file_name.split('-')\n",
        "    form_id = parts[0] + '-' + parts[1]\n",
        "    for key in form_writer:\n",
        "        if key == form_id:\n",
        "            img_targets = np.append(img_targets, form_writer[form_id])\n",
        "\n"
      ]
    },
    {
      "cell_type": "markdown",
      "metadata": {
        "id": "ZHuPuO5XqqPA"
      },
      "source": [
        "Visualize the form -> writer id arrays:"
      ]
    },
    {
      "cell_type": "code",
      "execution_count": null,
      "metadata": {
        "colab": {
          "base_uri": "https://localhost:8080/"
        },
        "id": "-779p9ooqrhO",
        "outputId": "93e4b34d-ca7f-428d-8225-ea74c735d9d6"
      },
      "outputs": [
        {
          "name": "stdout",
          "output_type": "stream",
          "text": [
            "['/content/iam-handwriting-top50/data_subset/data_subset/a01-000u-s00-00.png'\n",
            " '/content/iam-handwriting-top50/data_subset/data_subset/a01-000u-s00-01.png'\n",
            " '/content/iam-handwriting-top50/data_subset/data_subset/a01-000u-s00-02.png'\n",
            " '/content/iam-handwriting-top50/data_subset/data_subset/a01-000u-s00-03.png'\n",
            " '/content/iam-handwriting-top50/data_subset/data_subset/a01-000u-s01-00.png']\n",
            "['000' '000' '000' '000' '000']\n"
          ]
        }
      ],
      "source": [
        "print(img_files[0:5])\n",
        "print(img_targets[0:5])"
      ]
    },
    {
      "cell_type": "markdown",
      "metadata": {
        "id": "12lc0j1Kzmyy"
      },
      "source": [
        "Visualize dataset's images"
      ]
    },
    {
      "cell_type": "code",
      "execution_count": null,
      "metadata": {
        "colab": {
          "base_uri": "https://localhost:8080/",
          "height": 148
        },
        "id": "oGaF77hszsFy",
        "outputId": "8ab8064c-068e-4aa6-f4a5-ec445ea03588"
      },
      "outputs": [
        {
          "data": {
            "image/png": "[encoded data removed]",
            "text/plain": [
              "<Figure size 720x720 with 1 Axes>"
            ]
          },
          "metadata": {},
          "output_type": "display_data"
        },
        {
          "data": {
            "image/png": "[encoded data removed]",
            "text/plain": [
              "<Figure size 720x720 with 1 Axes>"
            ]
          },
          "metadata": {},
          "output_type": "display_data"
        }
      ],
      "source": [
        "import matplotlib.pyplot as plt\n",
        "import matplotlib.image as mpimg\n",
        "%matplotlib inline\n",
        "\n",
        "for file_name in img_files[:2]:\n",
        "    img = mpimg.imread(file_name)\n",
        "    plt.figure(figsize = (10,10))\n",
        "    plt.imshow(img, cmap ='gray')"
      ]
    },
    {
      "cell_type": "markdown",
      "metadata": {
        "id": "535U6ZB7z8kL"
      },
      "source": [
        "Encode writers with a value between 0 and n_classes-1:"
      ]
    },
    {
      "cell_type": "code",
      "execution_count": null,
      "metadata": {
        "colab": {
          "base_uri": "https://localhost:8080/"
        },
        "id": "C_qt7v_Az_vq",
        "outputId": "27803327-ce0c-4fb3-9aff-a3972db264b3"
      },
      "outputs": [
        {
          "name": "stdout",
          "output_type": "stream",
          "text": [
            "Writer ID        :  ['000' '000']\n",
            "Encoded writer ID:  [0 0]\n"
          ]
        }
      ],
      "source": [
        "from sklearn.preprocessing import LabelEncoder\n",
        "\n",
        "encoder = LabelEncoder()\n",
        "encoder.fit(img_targets)\n",
        "encoded_img_targets = encoder.transform(img_targets)\n",
        "\n",
        "print(\"Writer ID        : \", img_targets[:2])\n",
        "print(\"Encoded writer ID: \", encoded_img_targets[:2])"
      ]
    },
    {
      "cell_type": "markdown",
      "metadata": {
        "id": "hDGN8pfN0YTZ"
      },
      "source": [
        "Splitting of data into training and validation sets for cross validation with 4:1:1 ratio.\n",
        "\n"
      ]
    },
    {
      "cell_type": "code",
      "execution_count": null,
      "metadata": {
        "colab": {
          "base_uri": "https://localhost:8080/"
        },
        "id": "pHvRcYxmz3hp",
        "outputId": "8bb1db69-91bb-4383-ad62-f5ef60fc9f6b"
      },
      "outputs": [
        {
          "name": "stdout",
          "output_type": "stream",
          "text": [
            "(1616,) (1617,) (1666,)\n",
            "(1616,) (1617,) (1666,)\n"
          ]
        }
      ],
      "source": [
        "from sklearn.model_selection import train_test_split\n",
        "\n",
        "# Split dataset into training and test sets\n",
        "X_train, X_test, y_train, y_test = train_test_split(img_files, encoded_img_targets, train_size=0.66,random_state=52, shuffle = True)\n",
        "\n",
        "# Further split training set into training and validation sets\n",
        "X_train, X_val, y_train, y_val = train_test_split(X_train, y_train, train_size=0.5, random_state=22,shuffle = True)\n",
        "\n",
        "print(X_train.shape, X_val.shape, X_test.shape)\n",
        "print(y_train.shape, y_val.shape, y_test.shape)\n"
      ]
    },
    {
      "cell_type": "markdown",
      "metadata": {
        "id": "eDFl-Xm0K6lk"
      },
      "source": [
        "Defining constants for the model"
      ]
    },
    {
      "cell_type": "code",
      "execution_count": null,
      "metadata": {
        "id": "Ntw2TaFwAD7X"
      },
      "outputs": [],
      "source": [
        "CROP_SIZE = 113\n",
        "NUM_LABELS = 50\n",
        "BATCH_SIZE = 16"
      ]
    },
    {
      "cell_type": "markdown",
      "metadata": {
        "id": "uAcmLDbvLHL-"
      },
      "source": [
        "As suggested in the paper, the input to the model are not unique sentences but rather random patches cropped from each sentence. The get_augmented_sample method is in charge of doing so by resizing each sentence's height to 113 pixels, and its width such that original aspect ratio is maintained. Finally, from the resized image, patches of 113x113 are randomly cropped."
      ]
    },
    {
      "cell_type": "code",
      "execution_count": null,
      "metadata": {
        "id": "bjRfiPpT9dBX"
      },
      "outputs": [],
      "source": [
        "from sklearn.utils import shuffle\n",
        "from PIL import Image\n",
        "import random\n",
        "\n",
        "def get_augmented_sample(sample, label, sample_ratio):\n",
        "    # Get current image details\n",
        "    img = Image.open(sample)\n",
        "    img_width = img.size[0]\n",
        "    img_height = img.size[1]\n",
        "\n",
        "    # Compute resize dimensions such that aspect ratio is maintained\n",
        "    height_fac = CROP_SIZE / img_height\n",
        "    size = (int(img_width * height_fac), CROP_SIZE)\n",
        "\n",
        "    # Resize image \n",
        "    new_img = img.resize((size), Image.ANTIALIAS)\n",
        "    new_img_width = new_img.size[0]\n",
        "    new_img_height = new_img.size[1]\n",
        "\n",
        "    # Generate a random number of crops of size 113x113 from the resized image\n",
        "    x_coord = list(range(0, new_img_width - CROP_SIZE))\n",
        "    num_crops = int(len(x_coord) * sample_ratio)\n",
        "    random_x_coord = random.sample(x_coord, num_crops)\n",
        "    \n",
        "    # Create augmented images (cropped forms) and map them to a label (writer)\n",
        "    images = []\n",
        "    labels = []\n",
        "    for x in random_x_coord:\n",
        "        img_crop = new_img.crop((x, 0, x + CROP_SIZE, CROP_SIZE))\n",
        "        # Transform image to an array of numbers\n",
        "        images.append(np.asarray(img_crop))\n",
        "        labels.append(label)\n",
        "\n",
        "    return (images, labels)"
      ]
    },
    {
      "cell_type": "markdown",
      "metadata": {
        "id": "47MyHOkv_daU"
      },
      "source": [
        "For training and testing, generator function is called with the intent of making train and test generator data."
      ]
    },
    {
      "cell_type": "code",
      "execution_count": null,
      "metadata": {
        "colab": {
          "base_uri": "https://localhost:8080/",
          "height": 98
        },
        "id": "5vj4pyLS-IxN",
        "outputId": "bc23c32c-bad7-4b13-9321-ec12067d687e"
      },
      "outputs": [
        {
          "name": "stdout",
          "output_type": "stream",
          "text": [
            "Label:  26\n"
          ]
        },
        {
          "data": {
            "image/png": "[encoded data removed]",
            "text/plain": [
              "<Figure size 720x720 with 1 Axes>"
            ]
          },
          "metadata": {},
          "output_type": "display_data"
        }
      ],
      "source": [
        "sample, label = X_train[0], y_train[0]\n",
        "img = mpimg.imread(sample)\n",
        "plt.figure(figsize = (10,10))\n",
        "plt.imshow(img, cmap ='gray')\n",
        "print(\"Label: \", label)"
      ]
    },
    {
      "cell_type": "code",
      "execution_count": null,
      "metadata": {
        "id": "Hr2c0Eog_lVj"
      },
      "outputs": [],
      "source": [
        "images, labels = get_augmented_sample(sample, label, 0.1)"
      ]
    },
    {
      "cell_type": "code",
      "execution_count": null,
      "metadata": {
        "colab": {
          "base_uri": "https://localhost:8080/"
        },
        "id": "YH4s_YxpAcoB",
        "outputId": "ba6f7a1a-8abc-4aa8-cafb-a6f934ff33ed"
      },
      "outputs": [
        {
          "name": "stdout",
          "output_type": "stream",
          "text": [
            "[26, 26, 26, 26, 26, 26, 26, 26, 26, 26, 26, 26, 26, 26, 26, 26, 26, 26, 26, 26, 26, 26, 26, 26, 26, 26, 26, 26, 26, 26, 26, 26, 26, 26, 26, 26, 26, 26, 26, 26, 26, 26, 26, 26, 26, 26, 26, 26, 26, 26, 26, 26, 26, 26, 26, 26, 26, 26, 26, 26, 26, 26, 26, 26, 26, 26, 26, 26, 26, 26, 26, 26, 26, 26, 26, 26, 26, 26, 26, 26, 26, 26, 26, 26, 26, 26, 26, 26, 26, 26, 26, 26, 26, 26, 26, 26, 26, 26, 26, 26, 26, 26, 26, 26, 26, 26, 26, 26, 26, 26, 26, 26, 26, 26, 26, 26, 26, 26, 26, 26, 26, 26, 26, 26, 26, 26, 26, 26, 26, 26, 26, 26, 26, 26, 26, 26, 26, 26, 26, 26, 26, 26, 26, 26, 26, 26, 26, 26, 26, 26, 26, 26, 26, 26, 26, 26, 26, 26, 26, 26, 26, 26, 26, 26, 26, 26, 26, 26, 26, 26, 26, 26, 26, 26, 26, 26, 26, 26, 26, 26, 26, 26, 26, 26, 26, 26, 26, 26, 26, 26, 26, 26, 26, 26, 26, 26, 26, 26, 26, 26, 26, 26, 26, 26, 26]\n",
            "Num of labels:  205\n"
          ]
        }
      ],
      "source": [
        "print(labels)\n",
        "print(\"Num of labels: \", len(labels))"
      ]
    },
    {
      "cell_type": "code",
      "execution_count": null,
      "metadata": {
        "colab": {
          "base_uri": "https://localhost:8080/",
          "height": 303
        },
        "id": "y37vf8buAiAB",
        "outputId": "8598d4c9-0394-48ae-f4c2-2cd04685d3ff"
      },
      "outputs": [
        {
          "name": "stdout",
          "output_type": "stream",
          "text": [
            "205\n"
          ]
        },
        {
          "data": {
            "text/plain": [
              "<matplotlib.image.AxesImage at 0x7f5819407b90>"
            ]
          },
          "execution_count": 20,
          "metadata": {},
          "output_type": "execute_result"
        },
        {
          "data": {
            "image/png": "[encoded data removed]",
            "text/plain": [
              "<Figure size 432x288 with 1 Axes>"
            ]
          },
          "metadata": {},
          "output_type": "display_data"
        }
      ],
      "source": [
        "print(len(images))\n",
        "plt.imshow(images[0], cmap ='gray')"
      ]
    },
    {
      "cell_type": "code",
      "execution_count": null,
      "metadata": {
        "colab": {
          "base_uri": "https://localhost:8080/",
          "height": 285
        },
        "id": "rFVjSw8gAlU3",
        "outputId": "976ad305-0615-478e-d00a-6e801e53de17"
      },
      "outputs": [
        {
          "data": {
            "text/plain": [
              "<matplotlib.image.AxesImage at 0x7f5819384510>"
            ]
          },
          "execution_count": 21,
          "metadata": {},
          "output_type": "execute_result"
        },
        {
          "data": {
            "image/png": "[encoded data removed]",
            "text/plain": [
              "<Figure size 432x288 with 1 Axes>"
            ]
          },
          "metadata": {},
          "output_type": "display_data"
        }
      ],
      "source": [
        "plt.imshow(images[1], cmap ='gray')"
      ]
    },
    {
      "cell_type": "markdown",
      "metadata": {
        "id": "KVOieyOKMDV6"
      },
      "source": [
        "The model uses a generator in order to be able to call get_augmented_sample when training the model:"
      ]
    },
    {
      "cell_type": "code",
      "execution_count": null,
      "metadata": {
        "id": "EfjYHnb8AuUl"
      },
      "outputs": [],
      "source": [
        "import operator\n",
        "from functools import reduce\n",
        "from keras.utils import to_categorical\n",
        "\n",
        "def generate_data(samples, labels, batch_size, sample_ratio):\n",
        "    while 1: \n",
        "        for offset in range(0, len(samples), batch_size):\n",
        "            batch_samples = samples[offset:(offset + batch_size)]\n",
        "            batch_labels = labels[offset:(offset + batch_size)]\n",
        "            \n",
        "            # Augment each sample in batch\n",
        "            augmented_batch_samples = []\n",
        "            augmented_batch_labels = []\n",
        "            for i in range(len(batch_samples)):\n",
        "                sample = batch_samples[i]\n",
        "                label = batch_labels[i]\n",
        "                augmented_samples, augmented_labels = get_augmented_sample(sample, label, sample_ratio)\n",
        "                augmented_batch_samples.append(augmented_samples)\n",
        "                augmented_batch_labels.append(augmented_labels)\n",
        "\n",
        "            # Flatten out samples and labels\n",
        "            augmented_batch_samples = reduce(operator.add, augmented_batch_samples)\n",
        "            augmented_batch_labels = reduce(operator.add, augmented_batch_labels)\n",
        "            \n",
        "            # Reshape input format\n",
        "            X_train = np.array(augmented_batch_samples)\n",
        "            X_train = X_train.reshape(X_train.shape[0], CROP_SIZE, CROP_SIZE, 1)\n",
        "\n",
        "            # Transform input to float and normalize\n",
        "            X_train = X_train.astype('float32')\n",
        "            X_train /= 255\n",
        "\n",
        "            # Encode y\n",
        "            y_train = np.array(augmented_batch_labels)\n",
        "            y_train = to_categorical(y_train, NUM_LABELS)\n",
        "\n",
        "            yield X_train, y_train"
      ]
    },
    {
      "cell_type": "markdown",
      "metadata": {
        "id": "OyuceJd0L9Ah"
      },
      "source": [
        "Create training, validation, and test generators:"
      ]
    },
    {
      "cell_type": "code",
      "execution_count": null,
      "metadata": {
        "id": "v18FgBvYAwhE"
      },
      "outputs": [],
      "source": [
        "train_generator = generate_data(X_train, y_train, BATCH_SIZE, 0.3)\n",
        "validation_generator = generate_data(X_val, y_val, BATCH_SIZE, 0.3)\n",
        "test_generator = generate_data(X_test, y_test, BATCH_SIZE, 0.1)"
      ]
    },
    {
      "cell_type": "code",
      "execution_count": null,
      "metadata": {
        "colab": {
          "base_uri": "https://localhost:8080/"
        },
        "id": "p4GnALfiA1kV",
        "outputId": "4f857458-8ea8-4913-d8b3-44c27ede868a"
      },
      "outputs": [
        {
          "data": {
            "text/plain": [
              "<tensorflow.python.client.session.Session at 0x7f581930be50>"
            ]
          },
          "execution_count": 24,
          "metadata": {},
          "output_type": "execute_result"
        }
      ],
      "source": [
        "import tensorflow as tf\n",
        "\n",
        "\n",
        "config = tf.compat.v1.ConfigProto\n",
        "tf.compat.v1.Session()\n"
      ]
    },
    {
      "cell_type": "code",
      "execution_count": null,
      "metadata": {
        "id": "zCsd9FQkCnN1"
      },
      "outputs": [],
      "source": [
        "def resize_image(img):\n",
        "    size = round(CROP_SIZE/2)\n",
        "    return tf.image.resize(img, [size, size])"
      ]
    },
    {
      "cell_type": "code",
      "execution_count": null,
      "metadata": {
        "colab": {
          "base_uri": "https://localhost:8080/"
        },
        "id": "ReVWHejvCokl",
        "outputId": "4368a626-f0a3-4929-d465-0000267e5525"
      },
      "outputs": [
        {
          "name": "stdout",
          "output_type": "stream",
          "text": [
            "Model: \"sequential\"\n",
            "_________________________________________________________________\n",
            " Layer (type)                Output Shape              Param #   \n",
            "=================================================================\n",
            " zero_padding2d (ZeroPadding  (None, 115, 115, 1)      0         \n",
            " 2D)                                                             \n",
            "                                                                 \n",
            " lambda (Lambda)             (None, 56, 56, 1)         0         \n",
            "                                                                 \n",
            " conv1 (Conv2D)              (None, 28, 28, 32)        832       \n",
            "                                                                 \n",
            " activation (Activation)     (None, 28, 28, 32)        0         \n",
            "                                                                 \n",
            " pool1 (MaxPooling2D)        (None, 14, 14, 32)        0         \n",
            "                                                                 \n",
            " conv2 (Conv2D)              (None, 14, 14, 64)        18496     \n",
            "                                                                 \n",
            " activation_1 (Activation)   (None, 14, 14, 64)        0         \n",
            "                                                                 \n",
            " pool2 (MaxPooling2D)        (None, 7, 7, 64)          0         \n",
            "                                                                 \n",
            " conv3 (Conv2D)              (None, 7, 7, 128)         73856     \n",
            "                                                                 \n",
            " activation_2 (Activation)   (None, 7, 7, 128)         0         \n",
            "                                                                 \n",
            " pool3 (MaxPooling2D)        (None, 3, 3, 128)         0         \n",
            "                                                                 \n",
            " flatten (Flatten)           (None, 1152)              0         \n",
            "                                                                 \n",
            " dropout (Dropout)           (None, 1152)              0         \n",
            "                                                                 \n",
            " dense1 (Dense)              (None, 512)               590336    \n",
            "                                                                 \n",
            " activation_3 (Activation)   (None, 512)               0         \n",
            "                                                                 \n",
            " dropout_1 (Dropout)         (None, 512)               0         \n",
            "                                                                 \n",
            " dense2 (Dense)              (None, 256)               131328    \n",
            "                                                                 \n",
            " activation_4 (Activation)   (None, 256)               0         \n",
            "                                                                 \n",
            " dropout_2 (Dropout)         (None, 256)               0         \n",
            "                                                                 \n",
            " output (Dense)              (None, 50)                12850     \n",
            "                                                                 \n",
            " activation_5 (Activation)   (None, 50)                0         \n",
            "                                                                 \n",
            "=================================================================\n",
            "Total params: 827,698\n",
            "Trainable params: 827,698\n",
            "Non-trainable params: 0\n",
            "_________________________________________________________________\n",
            "None\n"
          ]
        }
      ],
      "source": [
        "from keras.models import Sequential\n",
        "from keras.layers import Dense, Dropout, Flatten, Lambda, Activation\n",
        "from keras.layers.convolutional import Convolution2D, ZeroPadding2D, MaxPooling2D\n",
        "from keras.optimizers import Adam\n",
        "from keras import metrics\n",
        "\n",
        "model = Sequential()\n",
        "\n",
        "# Define network input shape\n",
        "model.add(ZeroPadding2D((1, 1), input_shape=(CROP_SIZE, CROP_SIZE, 1)))\n",
        "# Resize images to allow for easy computation\n",
        "model.add(Lambda(resize_image)) \n",
        "\n",
        "# CNN model - Building the model suggested in paper\n",
        "model.add(Convolution2D(filters= 32, kernel_size =(5,5), strides= (2, 2), padding='same', name='conv1'))\n",
        "model.add(Activation('relu'))\n",
        "model.add(MaxPooling2D(pool_size=(2, 2), strides=(2, 2), name='pool1'))\n",
        "\n",
        "model.add(Convolution2D(filters= 64, kernel_size =(3, 3), strides= (1, 1), padding='same', name='conv2'))\n",
        "model.add(Activation('relu'))\n",
        "model.add(MaxPooling2D(pool_size=(2, 2), strides=(2, 2), name='pool2'))\n",
        "\n",
        "model.add(Convolution2D(filters= 128, kernel_size =(3, 3), strides= (1, 1), padding='same', name='conv3'))\n",
        "model.add(Activation('relu'))\n",
        "model.add(MaxPooling2D(pool_size=(2, 2), strides=(2, 2), name='pool3'))\n",
        "\n",
        "\n",
        "model.add(Flatten())\n",
        "model.add(Dropout(0.5))\n",
        "\n",
        "model.add(Dense(512, name='dense1'))\n",
        "model.add(Activation('relu'))\n",
        "model.add(Dropout(0.5))\n",
        "\n",
        "model.add(Dense(256, name='dense2'))\n",
        "model.add(Activation('relu'))\n",
        "model.add(Dropout(0.5))\n",
        "\n",
        "model.add(Dense(NUM_LABELS, name='output'))\n",
        "model.add(Activation('softmax'))\n",
        "\n",
        "model.compile(loss='categorical_crossentropy', optimizer=Adam(), metrics=['acc'])\n",
        "\n",
        "print(model.summary())"
      ]
    },
    {
      "cell_type": "code",
      "execution_count": null,
      "metadata": {
        "colab": {
          "base_uri": "https://localhost:8080/"
        },
        "id": "sYSDePGFEJY1",
        "outputId": "499dc141-ec4d-4dc1-a2d6-81b5aed5fc2c"
      },
      "outputs": [
        {
          "metadata": {
            "tags": null
          },
          "name": "stderr",
          "output_type": "stream",
          "text": [
            "/usr/local/lib/python3.7/dist-packages/ipykernel_launcher.py:17: UserWarning: `Model.fit_generator` is deprecated and will be removed in a future version. Please use `Model.fit`, which supports generators.\n"
          ]
        },
        {
          "output_type": "stream",
          "name": "stdout",
          "text": [
            "Epoch 1/5\n",
            "205/204 [==============================] - ETA: -7s - loss: 3.4714 - acc: 0.2081\n",
            "Epoch 1: saving model to low_loss.hdf5\n",
            "204/204 [==============================] - 4676s 23s/step - loss: 3.4714 - acc: 0.2081 - val_loss: 3.1190 - val_acc: 0.2216\n",
            "Epoch 2/5\n",
            "205/204 [==============================] - ETA: -7s - loss: 2.8408 - acc: 0.2552\n",
            "Epoch 2: saving model to low_loss.hdf5\n",
            "204/204 [==============================] - 4674s 23s/step - loss: 2.8408 - acc: 0.2552 - val_loss: 2.5255 - val_acc: 0.2920\n",
            "Epoch 3/5\n",
            "205/204 [==============================] - ETA: -7s - loss: 2.4263 - acc: 0.3159\n",
            "Epoch 3: saving model to low_loss.hdf5\n",
            "204/204 [==============================] - 4703s 23s/step - loss: 2.4263 - acc: 0.3159 - val_loss: 2.1256 - val_acc: 0.3765\n",
            "Epoch 4/5\n",
            "205/204 [==============================] - ETA: -8s - loss: 2.1307 - acc: 0.3759\n",
            "Epoch 4: saving model to low_loss.hdf5\n",
            "204/204 [==============================] - 4892s 24s/step - loss: 2.1307 - acc: 0.3759 - val_loss: 1.9847 - val_acc: 0.4197\n",
            "Epoch 5/5\n",
            "205/204 [==============================] - ETA: -7s - loss: 1.8818 - acc: 0.4346\n",
            "Epoch 5: saving model to low_loss.hdf5\n",
            "204/204 [==============================] - 4691s 23s/step - loss: 1.8818 - acc: 0.4346 - val_loss: 1.6072 - val_acc: 0.5028\n"
          ]
        }
      ],
      "source": [
        "from keras.callbacks import ModelCheckpoint\n",
        "nb_epoch = 5\n",
        "\n",
        "samples_per_epoch = 3268\n",
        "nb_val_samples = 842\n",
        "\n",
        "# #save every model using Keras checkpoint\n",
        "from keras.callbacks import ModelCheckpoint\n",
        "#filepath=\"check-{epoch:02d}-{val_loss:.4f}.hdf5\"\n",
        "filepath=\"low_loss.hdf5\"\n",
        "checkpoint = ModelCheckpoint(filepath= filepath, verbose=1, save_best_only=False)\n",
        "callbacks_list = [checkpoint]\n",
        "\n",
        "# #Model fit generator\n",
        "history_object = model.fit_generator(train_generator, steps_per_epoch = samples_per_epoch/BATCH_SIZE,\n",
        "                                      validation_data=validation_generator,\n",
        "                                      validation_steps=nb_val_samples, epochs=nb_epoch, verbose=1, callbacks=callbacks_list)"
      ]
    }
  ],
  "metadata": {
    "colab": {
      "provenance": [],
      "toc_visible": true,
      "authorship_tag": "ABX9TyNg+KARKnCzhLTQiC+OZ9bc",
      "include_colab_link": true
    },
    "kernelspec": {
      "display_name": "Python 3",
      "name": "python3"
    },
    "language_info": {
      "name": "python"
    }
  },
  "nbformat": 4,
  "nbformat_minor": 0
}